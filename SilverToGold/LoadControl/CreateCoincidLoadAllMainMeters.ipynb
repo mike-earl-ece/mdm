{
 "cells": [
  {
   "cell_type": "markdown",
   "metadata": {
    "application/vnd.databricks.v1+cell": {
     "cellMetadata": {},
     "inputWidgets": {},
     "nuid": "f14b9cfb-ce26-43c3-a899-ee3ad7272c4c",
     "showTitle": false,
     "tableResultSettingsMap": {},
     "title": ""
    }
   },
   "source": [
    "# Create Coincident Load All Main Meters\n",
    "Finds usage for all main meters during the GRE monthly coincidental load.  This should align closely with the GRE numbers."
   ]
  },
  {
   "cell_type": "code",
   "execution_count": 0,
   "metadata": {
    "application/vnd.databricks.v1+cell": {
     "cellMetadata": {
      "byteLimit": 2048000,
      "rowLimit": 10000
     },
     "inputWidgets": {},
     "nuid": "17d79033-0b3d-4914-bff8-826b1f50ca37",
     "showTitle": false,
     "tableResultSettingsMap": {},
     "title": ""
    }
   },
   "outputs": [],
   "source": [
    "%run ../../Utilities/ConfigUtilities"
   ]
  },
  {
   "cell_type": "code",
   "execution_count": 0,
   "metadata": {
    "application/vnd.databricks.v1+cell": {
     "cellMetadata": {
      "byteLimit": 2048000,
      "rowLimit": 10000
     },
     "inputWidgets": {},
     "nuid": "1b8b3755-db10-46e4-b779-3f3bacf99a19",
     "showTitle": false,
     "tableResultSettingsMap": {},
     "title": ""
    }
   },
   "outputs": [],
   "source": [
    "# Set up the environment using a function in ConfigUtilties.\n",
    "set_spark_config()"
   ]
  },
  {
   "cell_type": "code",
   "execution_count": 0,
   "metadata": {
    "application/vnd.databricks.v1+cell": {
     "cellMetadata": {
      "byteLimit": 2048000,
      "rowLimit": 10000
     },
     "inputWidgets": {},
     "nuid": "978aed76-bdcb-48fd-a1e5-52242fd04c75",
     "showTitle": false,
     "tableResultSettingsMap": {},
     "title": ""
    }
   },
   "outputs": [],
   "source": [
    "from pyspark.sql.functions import col, concat, lit, sum\n",
    "\n",
    "debug = 1"
   ]
  },
  {
   "cell_type": "code",
   "execution_count": 0,
   "metadata": {
    "application/vnd.databricks.v1+cell": {
     "cellMetadata": {
      "byteLimit": 2048000,
      "rowLimit": 10000
     },
     "inputWidgets": {},
     "nuid": "9a747780-71cc-4379-95c8-afe16e17735d",
     "showTitle": false,
     "tableResultSettingsMap": {},
     "title": ""
    }
   },
   "outputs": [],
   "source": [
    "# Read the coincidental load information with index information.\n",
    "coincid_load_df = spark.read.format(\"delta\").load(COINCIDENTAL_LOAD_INDEX_PATH)\n",
    "\n",
    "if debug:\n",
    "  display(coincid_load_df)"
   ]
  },
  {
   "cell_type": "code",
   "execution_count": 0,
   "metadata": {
    "application/vnd.databricks.v1+cell": {
     "cellMetadata": {
      "byteLimit": 2048000,
      "rowLimit": 10000
     },
     "inputWidgets": {},
     "nuid": "060984a4-c57a-4996-bdf6-c46f60040ede",
     "showTitle": false,
     "tableResultSettingsMap": {},
     "title": ""
    }
   },
   "outputs": [],
   "source": [
    "# Read the hourly meter data for the main meters (no submeters)\n",
    "hourly_main_df = spark.read.format(\"delta\").load(MDM_HOURLY_NO_SUBMETERS_PATH)\n",
    "\n",
    "if debug:\n",
    "    display(hourly_main_df)"
   ]
  },
  {
   "cell_type": "code",
   "execution_count": 0,
   "metadata": {
    "application/vnd.databricks.v1+cell": {
     "cellMetadata": {
      "byteLimit": 2048000,
      "rowLimit": 10000
     },
     "inputWidgets": {},
     "nuid": "efb91f5e-60bd-446a-9e3b-190251c1838e",
     "showTitle": false,
     "tableResultSettingsMap": {},
     "title": ""
    }
   },
   "outputs": [],
   "source": [
    "# Filter the hourly data to the coincidental peak hour by joining with the coincidental peak dataframe.\n",
    "hourly_main_coincid_df = hourly_main_df.join(coincid_load_df, hourly_main_df.EndMeterSampleIndex == coincid_load_df.MeterSampleIndex)\n",
    "\n",
    "hourly_main_coincid_df = hourly_main_coincid_df.drop('MeterSampleIndex', 'LocalYear', 'LocalMonth', 'LocalDay', 'HourEnding')\n",
    "\n",
    "if debug:\n",
    "    display(hourly_main_coincid_df)"
   ]
  },
  {
   "cell_type": "code",
   "execution_count": 0,
   "metadata": {
    "application/vnd.databricks.v1+cell": {
     "cellMetadata": {
      "byteLimit": 2048000,
      "rowLimit": 10000
     },
     "inputWidgets": {},
     "nuid": "d75fac79-88ac-499b-9e29-d3b077caae1b",
     "showTitle": false,
     "tableResultSettingsMap": {},
     "title": ""
    }
   },
   "outputs": [],
   "source": [
    "# Get totals for the coincidental peak slot for all meters.\n",
    "coincid_total_df = hourly_main_coincid_df.groupBy(\"CoincidYear\", \"CoincidMonth\").agg(sum(\"HourlyAMIValue\").alias(\"TotalCPHourlyAMIValue\"), sum(\"HourlyVEEValue\").alias(\"TotalCPHourlyVEEValue\"))\n",
    "\n",
    "coincid_total_df = coincid_total_df.withColumn(\"YearMonth\", concat(coincid_total_df.CoincidYear, lit(\"-\"), coincid_total_df.CoincidMonth))\n",
    "\n",
    "if debug:\n",
    "    display(coincid_total_df)\n"
   ]
  },
  {
   "cell_type": "code",
   "execution_count": 0,
   "metadata": {
    "application/vnd.databricks.v1+cell": {
     "cellMetadata": {
      "byteLimit": 2048000,
      "rowLimit": 10000
     },
     "inputWidgets": {},
     "nuid": "92a5b4ca-34a6-4d93-8043-050e7b8a332f",
     "showTitle": false,
     "tableResultSettingsMap": {},
     "title": ""
    }
   },
   "outputs": [],
   "source": [
    "# Save this total for comparison with the GRE total and the load control total.\n",
    "coincid_total_df.write.format(\"delta\").mode(\"overwrite\").save(COINCIDENTAL_PEAK_ALL_METER_TOTAL_PATH) \n"
   ]
  },
  {
   "cell_type": "code",
   "execution_count": 0,
   "metadata": {
    "application/vnd.databricks.v1+cell": {
     "cellMetadata": {
      "byteLimit": 2048000,
      "rowLimit": 10000
     },
     "inputWidgets": {},
     "nuid": "8b5f1be6-2b64-415f-9958-df13ff04ddb3",
     "showTitle": false,
     "tableResultSettingsMap": {},
     "title": ""
    }
   },
   "outputs": [],
   "source": [
    "# Clean up the delta history.\n",
    "spark.sql(f\"VACUUM '{COINCIDENTAL_PEAK_ALL_METER_TOTAL_PATH}'\")"
   ]
  }
 ],
 "metadata": {
  "application/vnd.databricks.v1+notebook": {
   "computePreferences": null,
   "dashboards": [],
   "environmentMetadata": {
    "base_environment": "",
    "environment_version": "2"
   },
   "inputWidgetPreferences": null,
   "language": "python",
   "notebookMetadata": {
    "pythonIndentUnit": 4
   },
   "notebookName": "CreateCoincidLoadAllMainMeters",
   "widgets": {}
  },
  "language_info": {
   "name": "python"
  }
 },
 "nbformat": 4,
 "nbformat_minor": 0
}
