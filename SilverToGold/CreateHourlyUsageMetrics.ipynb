{
 "cells": [
  {
   "cell_type": "markdown",
   "metadata": {
    "application/vnd.databricks.v1+cell": {
     "cellMetadata": {
      "batchId": -6865562075231558,
      "byteLimit": 2048000,
      "rowLimit": 10000
     },
     "inputWidgets": {},
     "nuid": "f989ac89-ae74-48da-8b6f-7339c85f99bb",
     "showTitle": false,
     "tableResultSettingsMap": {},
     "title": ""
    }
   },
   "source": [
    "# Create Usage Metrics\n",
    "Creates several aggregates and metrics associated with hourly usage.  "
   ]
  },
  {
   "cell_type": "code",
   "execution_count": 0,
   "metadata": {
    "application/vnd.databricks.v1+cell": {
     "cellMetadata": {
      "byteLimit": 2048000,
      "rowLimit": 10000
     },
     "inputWidgets": {},
     "nuid": "28302c2a-8f5b-4ea8-a6ef-1b4e4a6af133",
     "showTitle": false,
     "tableResultSettingsMap": {},
     "title": ""
    }
   },
   "outputs": [],
   "source": [
    "%run ../Utilities/ConfigUtilities"
   ]
  },
  {
   "cell_type": "code",
   "execution_count": 0,
   "metadata": {
    "application/vnd.databricks.v1+cell": {
     "cellMetadata": {
      "byteLimit": 2048000,
      "rowLimit": 10000
     },
     "inputWidgets": {},
     "nuid": "be9c0938-7377-4495-b4a0-fc067823b989",
     "showTitle": false,
     "tableResultSettingsMap": {},
     "title": ""
    }
   },
   "outputs": [],
   "source": [
    "# Set up the environment using a function in ConfigUtilties.\n",
    "set_spark_config()"
   ]
  },
  {
   "cell_type": "code",
   "execution_count": 0,
   "metadata": {
    "application/vnd.databricks.v1+cell": {
     "cellMetadata": {
      "byteLimit": 2048000,
      "rowLimit": 10000
     },
     "inputWidgets": {},
     "nuid": "d7650758-9e19-451f-96fb-79083feb1472",
     "showTitle": false,
     "tableResultSettingsMap": {},
     "title": ""
    }
   },
   "outputs": [],
   "source": [
    "from pyspark.sql.functions import col, when, sum, mean, percentile_approx, row_number, desc, row_number\n",
    "from pyspark.sql.window import Window\n",
    "\n",
    "debug = 1"
   ]
  },
  {
   "cell_type": "code",
   "execution_count": 0,
   "metadata": {
    "application/vnd.databricks.v1+cell": {
     "cellMetadata": {
      "byteLimit": 2048000,
      "rowLimit": 10000
     },
     "inputWidgets": {},
     "nuid": "ef816e5d-82dd-4e02-a7f7-4180808a79df",
     "showTitle": false,
     "tableResultSettingsMap": {},
     "title": ""
    }
   },
   "outputs": [],
   "source": [
    "# Read the main meter only dataset.\n",
    "main_usage_df = spark.read.format(\"delta\").load(MDM_MAIN_METER_ONLY_DATA_PATH)\n",
    "\n",
    "if debug:\n",
    "    display(main_usage_df)"
   ]
  },
  {
   "cell_type": "code",
   "execution_count": 0,
   "metadata": {
    "application/vnd.databricks.v1+cell": {
     "cellMetadata": {
      "byteLimit": 2048000,
      "rowLimit": 10000
     },
     "inputWidgets": {},
     "nuid": "d0fb3983-8fbf-49aa-97be-34c132b89888",
     "showTitle": false,
     "tableResultSettingsMap": {},
     "title": ""
    }
   },
   "outputs": [],
   "source": [
    "# Read the indexed calendar to easily get the timestamp breakdown.  Join with the start read time index.\n",
    "cal_df =  spark.read.parquet(INDEXED_CALENDAR_PATH)\n",
    "\n",
    "main_usage_cal_df = main_usage_df.join(cal_df, main_usage_df.StartMeterSampleIndex == cal_df.MeterSampleIndex,  how='inner')\n",
    "\n",
    "if debug:\n",
    "    display(main_usage_cal_df)"
   ]
  },
  {
   "cell_type": "code",
   "execution_count": 0,
   "metadata": {
    "application/vnd.databricks.v1+cell": {
     "cellMetadata": {
      "byteLimit": 2048000,
      "rowLimit": 10000
     },
     "inputWidgets": {},
     "nuid": "d53081cd-0c5f-4cfe-babb-3066db97d921",
     "showTitle": false,
     "tableResultSettingsMap": {},
     "title": ""
    }
   },
   "outputs": [],
   "source": [
    "# Create an hour ending column.\n",
    "# Start time goes from 00:00 to 23:xx.  We should end up with HourEnding from 1 to 24.\n",
    "main_usage_cal_df = main_usage_cal_df.withColumn('HourEnding', col(\"Hour\") + 1)\n",
    "\n",
    "if debug:\n",
    "    display(main_usage_cal_df)"
   ]
  },
  {
   "cell_type": "code",
   "execution_count": 0,
   "metadata": {
    "application/vnd.databricks.v1+cell": {
     "cellMetadata": {
      "byteLimit": 2048000,
      "rowLimit": 10000
     },
     "inputWidgets": {},
     "nuid": "49c7f9ae-a94c-4a28-8042-74963dc536b9",
     "showTitle": false,
     "tableResultSettingsMap": {},
     "title": ""
    }
   },
   "outputs": [],
   "source": [
    "# Drop columns that aren't needed for the aggregation.\n",
    "columns_to_drop = ['StartDateTime', 'EndDateTime', 'Hour', 'Minute', 'Second', 'StartMeterSampleIndex', 'EndMeterSampleIndex', 'SampleRate', 'TimeStamp', 'MeterSampleIndex']\n",
    "main_usage_cal_df = main_usage_cal_df.drop(*columns_to_drop)\n",
    "\n",
    "if debug:\n",
    "    display(main_usage_cal_df)"
   ]
  },
  {
   "cell_type": "code",
   "execution_count": 0,
   "metadata": {
    "application/vnd.databricks.v1+cell": {
     "cellMetadata": {
      "byteLimit": 2048000,
      "rowLimit": 10000
     },
     "inputWidgets": {},
     "nuid": "114cac06-edeb-4d8f-96bd-c6670fedefb9",
     "showTitle": false,
     "tableResultSettingsMap": {},
     "title": ""
    }
   },
   "outputs": [],
   "source": [
    "# Group by all columns to sum AMI and VEE values.\n",
    "hourly_usage_df = main_usage_cal_df.groupBy([col for col in main_usage_cal_df.columns if col not in ['AMIValue', 'VEEValue']]) \\\n",
    "                              .agg(sum('AMIValue').alias('HourlyAMIValue'), sum('VEEValue').alias('HourlyVEEValue'))\n",
    "\n",
    "if debug:\n",
    "    display(hourly_usage_df)"
   ]
  },
  {
   "cell_type": "code",
   "execution_count": 0,
   "metadata": {
    "application/vnd.databricks.v1+cell": {
     "cellMetadata": {
      "byteLimit": 2048000,
      "rowLimit": 10000
     },
     "inputWidgets": {},
     "nuid": "28827d3d-9078-4493-bb92-9597bb5c137a",
     "showTitle": false,
     "tableResultSettingsMap": {},
     "title": ""
    }
   },
   "outputs": [],
   "source": [
    "# Save this for use in other scenarios.\n",
    "hourly_usage_df.write.format(\"delta\").mode(\"overwrite\").save(MDM_MAIN_METER_ONLY_HOURLY_DATA_PATH)"
   ]
  },
  {
   "cell_type": "markdown",
   "metadata": {
    "application/vnd.databricks.v1+cell": {
     "cellMetadata": {
      "batchId": -6865562075231558,
      "byteLimit": 2048000,
      "rowLimit": 10000
     },
     "inputWidgets": {},
     "nuid": "e83ec4c3-12ad-43f6-93c0-d5019f98b9ae",
     "showTitle": false,
     "tableResultSettingsMap": {},
     "title": ""
    }
   },
   "source": [
    "## Create metrics\n",
    "Now that individual meters are aggregated to hourly, we can start with the metrics."
   ]
  },
  {
   "cell_type": "markdown",
   "metadata": {
    "application/vnd.databricks.v1+cell": {
     "cellMetadata": {
      "batchId": -6865562075231558,
      "byteLimit": 2048000,
      "rowLimit": 10000
     },
     "inputWidgets": {},
     "nuid": "ef1d17e2-0592-4a8f-b138-bf93ccbc8e14",
     "showTitle": false,
     "tableResultSettingsMap": {},
     "title": ""
    }
   },
   "source": [
    "### Create a couple of useful aggregates first."
   ]
  },
  {
   "cell_type": "code",
   "execution_count": 0,
   "metadata": {
    "application/vnd.databricks.v1+cell": {
     "cellMetadata": {
      "byteLimit": 2048000,
      "rowLimit": 10000
     },
     "inputWidgets": {},
     "nuid": "bec05e59-f63a-416c-82dc-def239b7b220",
     "showTitle": false,
     "tableResultSettingsMap": {},
     "title": ""
    }
   },
   "outputs": [],
   "source": [
    "# Aggregate all meters to Year, Month, Day and HourEnding\n",
    "hour_day_month_df = hourly_usage_df.groupby(\"Year\", \"Month\", \"Day\", \"HourEnding\")\\\n",
    "            .agg(sum('HourlyAMIValue').alias('AllMetersDayHourAMIValue'), sum('HourlyVEEValue').alias('AllMetersDayHourVEEValue'))\n",
    "\n",
    "# Aggregate all meters to Year, Month, and HourEnding\n",
    "hour_month_df = hour_day_month_df.groupby(\"Year\", \"Month\", \"HourEnding\")\\\n",
    "            .agg(sum('AllMetersDayHourAMIValue').alias('AllMetersMonthHourTotalAMIValue'), \\\n",
    "                mean('AllMetersDayHourAMIValue').alias('AllMetersMonthHourMeanAMIValue'), \\\n",
    "                percentile_approx('AllMetersDayHourAMIValue', 0.5).alias('AllMetersMonthHourMedianAMIValue'), \\\n",
    "                    sum('AllMetersDayHourVEEValue').alias('AllMetersMonthHourTotalVEEValue'), \\\n",
    "                    mean('AllMetersDayHourVEEValue').alias('AllMetersMonthHourMeanVEEValue'), \\\n",
    "                    percentile_approx('AllMetersDayHourVEEValue', 0.5).alias('AllMetersMonthHourMedianVEEValue'))\n",
    "\n",
    "if debug==1:\n",
    "    display(hour_month_df)"
   ]
  },
  {
   "cell_type": "code",
   "execution_count": 0,
   "metadata": {
    "application/vnd.databricks.v1+cell": {
     "cellMetadata": {},
     "inputWidgets": {},
     "nuid": "1ef282b6-8dde-45a8-a592-b532ea11d4be",
     "showTitle": false,
     "tableResultSettingsMap": {},
     "title": ""
    }
   },
   "outputs": [],
   "source": [
    "# Save the "
   ]
  },
  {
   "cell_type": "markdown",
   "metadata": {
    "application/vnd.databricks.v1+cell": {
     "cellMetadata": {},
     "inputWidgets": {},
     "nuid": "57f0c601-6826-4e73-8017-7ffb2087653c",
     "showTitle": false,
     "tableResultSettingsMap": {},
     "title": ""
    }
   },
   "source": [
    "### Rank hours by month."
   ]
  },
  {
   "cell_type": "code",
   "execution_count": 0,
   "metadata": {
    "application/vnd.databricks.v1+cell": {
     "cellMetadata": {
      "byteLimit": 2048000,
      "rowLimit": 10000
     },
     "inputWidgets": {},
     "nuid": "3b55f9ab-4413-45fe-a726-7c65dd9b1eba",
     "showTitle": false,
     "tableResultSettingsMap": {},
     "title": ""
    }
   },
   "outputs": [],
   "source": [
    "windowSpec  = Window.partitionBy(\"Year\", \"Month\").orderBy(desc(\"AllMetersMonthHourMeanVEEValue\"))\n",
    "\n",
    "hour_month_rank_df = hour_month_df.withColumn(\"MonthRank\",row_number().over(windowSpec))\n",
    "\n",
    "if debug==1:\n",
    "    display(hour_month_rank_df)\n",
    "    display(hour_month_rank_df.filter((col('Year')==2024) & (col('Month')==8)))\n"
   ]
  },
  {
   "cell_type": "code",
   "execution_count": 0,
   "metadata": {
    "application/vnd.databricks.v1+cell": {
     "cellMetadata": {
      "byteLimit": 2048000,
      "rowLimit": 10000
     },
     "inputWidgets": {},
     "nuid": "299e4de3-a26c-4430-bede-28b5db612257",
     "showTitle": false,
     "tableResultSettingsMap": {},
     "title": ""
    }
   },
   "outputs": [],
   "source": [
    "# Save results - delta\n",
    "from delta.tables import *\n",
    "\n",
    "hour_month_rank_df.write.mode('overwrite').format(\"delta\").save(MDM_MONTH_HOUR_RANK_PATH)\n",
    "\n",
    "# Clean up old files\n",
    "delta_table = DeltaTable.forPath(spark, MDM_MONTH_HOUR_RANK_PATH)\n",
    "delta_table.vacuum()  "
   ]
  },
  {
   "cell_type": "markdown",
   "metadata": {
    "application/vnd.databricks.v1+cell": {
     "cellMetadata": {},
     "inputWidgets": {},
     "nuid": "30f4fc6d-2081-40d1-ae04-c261c02b7fda",
     "showTitle": false,
     "tableResultSettingsMap": {},
     "title": ""
    }
   },
   "source": [
    "### Save the hourly aggregrate\n",
    "This will be used to find the top 100 hours in a time period in Power BI."
   ]
  },
  {
   "cell_type": "code",
   "execution_count": 0,
   "metadata": {
    "application/vnd.databricks.v1+cell": {
     "cellMetadata": {
      "byteLimit": 2048000,
      "rowLimit": 10000
     },
     "inputWidgets": {},
     "nuid": "1c99ea27-58d1-4c4c-bf5d-7500da5c603e",
     "showTitle": false,
     "tableResultSettingsMap": {},
     "title": ""
    }
   },
   "outputs": [],
   "source": [
    "# Confirm previously created dataframe meets intent.\n",
    "display(hour_day_month_df)"
   ]
  },
  {
   "cell_type": "code",
   "execution_count": 0,
   "metadata": {
    "application/vnd.databricks.v1+cell": {
     "cellMetadata": {
      "byteLimit": 2048000,
      "rowLimit": 10000
     },
     "inputWidgets": {},
     "nuid": "7b7b49bd-b4a4-4ba4-b992-57d8e109a67e",
     "showTitle": false,
     "tableResultSettingsMap": {},
     "title": ""
    }
   },
   "outputs": [],
   "source": [
    "# Save results - delta\n",
    "from delta.tables import *\n",
    "\n",
    "hour_day_month_df.write.mode('overwrite').format(\"delta\").save(MDM_HOURLY_TOTALS_PATH)\n",
    "\n",
    "# Clean up old files\n",
    "delta_table = DeltaTable.forPath(spark, MDM_HOURLY_TOTALS_PATH)\n",
    "delta_table.vacuum()  "
   ]
  },
  {
   "cell_type": "markdown",
   "metadata": {
    "application/vnd.databricks.v1+cell": {
     "cellMetadata": {},
     "inputWidgets": {},
     "nuid": "89d12ac7-929c-497c-839a-88d2af338802",
     "showTitle": false,
     "tableResultSettingsMap": {},
     "title": ""
    }
   },
   "source": [
    "### Rank hours for each day based on usage."
   ]
  },
  {
   "cell_type": "code",
   "execution_count": 0,
   "metadata": {
    "application/vnd.databricks.v1+cell": {
     "cellMetadata": {
      "byteLimit": 2048000,
      "rowLimit": 10000
     },
     "inputWidgets": {},
     "nuid": "b6a5feb0-c963-4bd7-a41d-f802ceeeeb79",
     "showTitle": false,
     "tableResultSettingsMap": {},
     "title": ""
    }
   },
   "outputs": [],
   "source": [
    "# Use window functions to do the daily rank.\n",
    "windowSpec  = Window.partitionBy(\"Year\", \"Month\", \"Day\").orderBy(desc(\"AllMetersDayHourVEEValue\"))\n",
    "\n",
    "hourly_rank_by_day_df = hour_day_month_df.withColumn(\"DailyRank\", row_number().over(windowSpec))\n",
    "\n",
    "if debug==1:\n",
    "    display(hourly_rank_by_day_df)\n"
   ]
  },
  {
   "cell_type": "code",
   "execution_count": 0,
   "metadata": {
    "application/vnd.databricks.v1+cell": {
     "cellMetadata": {
      "byteLimit": 2048000,
      "rowLimit": 10000
     },
     "inputWidgets": {},
     "nuid": "9ff63332-d49e-4c43-8bd7-327c280f3467",
     "showTitle": false,
     "tableResultSettingsMap": {},
     "title": ""
    }
   },
   "outputs": [],
   "source": [
    "# Save\n",
    "hourly_rank_by_day_df.write.mode('overwrite').format(\"delta\").save(MDM_DAILY_RANK_PATH)\n",
    "\n",
    "# Clean up old files\n",
    "delta_table = DeltaTable.forPath(spark, MDM_DAILY_RANK_PATH)\n",
    "delta_table.vacuum()  \n"
   ]
  }
 ],
 "metadata": {
  "application/vnd.databricks.v1+notebook": {
   "computePreferences": null,
   "dashboards": [],
   "environmentMetadata": {
    "base_environment": "",
    "environment_version": "2"
   },
   "inputWidgetPreferences": null,
   "language": "python",
   "notebookMetadata": {
    "pythonIndentUnit": 4
   },
   "notebookName": "CreateHourlyUsageMetrics",
   "widgets": {}
  },
  "language_info": {
   "name": "python"
  }
 },
 "nbformat": 4,
 "nbformat_minor": 0
}
