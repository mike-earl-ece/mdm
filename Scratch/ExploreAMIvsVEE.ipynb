{
 "cells": [
  {
   "cell_type": "code",
   "execution_count": 0,
   "metadata": {
    "application/vnd.databricks.v1+cell": {
     "cellMetadata": {
      "byteLimit": 2048000,
      "rowLimit": 10000
     },
     "inputWidgets": {},
     "nuid": "3298ebc9-a058-4bf8-84cd-3ae6a0cde0a2",
     "showTitle": false,
     "tableResultSettingsMap": {},
     "title": ""
    }
   },
   "outputs": [],
   "source": [
    "%run ../Utilities/ConfigUtilities"
   ]
  },
  {
   "cell_type": "code",
   "execution_count": 0,
   "metadata": {
    "application/vnd.databricks.v1+cell": {
     "cellMetadata": {
      "byteLimit": 2048000,
      "rowLimit": 10000
     },
     "inputWidgets": {},
     "nuid": "c453d8f9-02c9-44be-9a69-4bbec114374b",
     "showTitle": false,
     "tableResultSettingsMap": {},
     "title": ""
    }
   },
   "outputs": [],
   "source": [
    "# Set up the environment using a function in ConfigUtilties.\n",
    "set_spark_config()"
   ]
  },
  {
   "cell_type": "code",
   "execution_count": 0,
   "metadata": {
    "application/vnd.databricks.v1+cell": {
     "cellMetadata": {
      "byteLimit": 2048000,
      "rowLimit": 10000
     },
     "inputWidgets": {},
     "nuid": "246186aa-05bf-4689-a71a-595fb08ece72",
     "showTitle": false,
     "tableResultSettingsMap": {},
     "title": ""
    }
   },
   "outputs": [],
   "source": [
    "from pyspark.sql.functions import col, when, sum, mean, percentile_approx, row_number, desc, row_number, expr, abs\n",
    "from pyspark.sql.window import Window\n",
    "\n",
    "debug = 1"
   ]
  },
  {
   "cell_type": "code",
   "execution_count": 0,
   "metadata": {
    "application/vnd.databricks.v1+cell": {
     "cellMetadata": {
      "byteLimit": 2048000,
      "rowLimit": 10000
     },
     "inputWidgets": {},
     "nuid": "2f21e037-67e0-4372-99c0-02f6a7027214",
     "showTitle": false,
     "tableResultSettingsMap": {},
     "title": ""
    }
   },
   "outputs": [],
   "source": [
    "# Read the main meter only dataset.\n",
    "main_usage_df = spark.read.format(\"delta\").load(MDM_MAIN_METER_ONLY_HOURLY_DATA_PATH)"
   ]
  },
  {
   "cell_type": "code",
   "execution_count": 0,
   "metadata": {
    "application/vnd.databricks.v1+cell": {
     "cellMetadata": {
      "byteLimit": 2048000,
      "rowLimit": 10000
     },
     "inputWidgets": {},
     "nuid": "ec8dc768-80ba-41f0-9523-62b11c41a242",
     "showTitle": false,
     "tableResultSettingsMap": {},
     "title": ""
    }
   },
   "outputs": [],
   "source": [
    "# Calculate the VEE vs. AMI difference and set counter for each reading that is different.\n",
    "main_usage_df = main_usage_df.withColumn(\"VEE_AMI_DIFF\", abs(col(\"HourlyAMIValue\") - col(\"HourlyVEEValue\"))) \\\n",
    "                .withColumn(\"DIFF_COUNT\", when(col(\"VEE_AMI_DIFF\") != 0, 1).otherwise(0))\n",
    "\n",
    "if debug:\n",
    "    display(main_usage_df)"
   ]
  },
  {
   "cell_type": "code",
   "execution_count": 0,
   "metadata": {
    "application/vnd.databricks.v1+cell": {
     "cellMetadata": {
      "byteLimit": 2048000,
      "rowLimit": 10000
     },
     "inputWidgets": {},
     "nuid": "9c72e20d-0a78-4999-8941-b98dd00a78e1",
     "showTitle": false,
     "tableResultSettingsMap": {},
     "title": ""
    }
   },
   "outputs": [],
   "source": [
    "# Create date from year, month, day columns.\n",
    "main_usage_df = main_usage_df.withColumn(\"DATE\", expr(\"make_date(YEAR, MONTH, DAY)\"))\n",
    "\n",
    "if debug:\n",
    "    display(main_usage_df)"
   ]
  },
  {
   "cell_type": "code",
   "execution_count": 0,
   "metadata": {
    "application/vnd.databricks.v1+cell": {
     "cellMetadata": {
      "byteLimit": 2048000,
      "rowLimit": 10000
     },
     "inputWidgets": {},
     "nuid": "98e99a43-7e5a-4674-b4f6-de2d19e1fb0a",
     "showTitle": false,
     "tableResultSettingsMap": {},
     "title": ""
    }
   },
   "outputs": [],
   "source": [
    "# Explore by hour\n",
    "hour_df = main_usage_df.groupBy(\"HourEnding\").agg(sum(\"DIFF_COUNT\").alias(\"DIFF_COUNT_SUM\"), sum(\"VEE_AMI_DIFF\").alias(\"VEE_AMI_DIFF_SUM\"))\n",
    "\n",
    "hour_df = hour_df.withColumn(\"DIFF_COUNT_AVG\", col(\"VEE_AMI_DIFF_SUM\") / col(\"DIFF_COUNT_SUM\")) \n",
    "\n",
    "display(hour_df.orderBy(desc(\"DIFF_COUNT_SUM\")))"
   ]
  },
  {
   "cell_type": "code",
   "execution_count": 0,
   "metadata": {
    "application/vnd.databricks.v1+cell": {
     "cellMetadata": {
      "byteLimit": 2048000,
      "rowLimit": 10000
     },
     "inputWidgets": {},
     "nuid": "3abaa7f9-26f6-41e8-9b5e-f75fb3bb2a75",
     "showTitle": false,
     "tableResultSettingsMap": {},
     "title": ""
    }
   },
   "outputs": [],
   "source": [
    "# Explore by date\n",
    "date_df = main_usage_df.groupBy(\"DATE\").agg(sum(\"DIFF_COUNT\").alias(\"DIFF_COUNT_SUM\"), sum(\"VEE_AMI_DIFF\").alias(\"VEE_AMI_DIFF_SUM\"))\n",
    "\n",
    "display(date_df.orderBy(desc(\"DIFF_COUNT_SUM\")))"
   ]
  },
  {
   "cell_type": "code",
   "execution_count": 0,
   "metadata": {
    "application/vnd.databricks.v1+cell": {
     "cellMetadata": {
      "byteLimit": 2048000,
      "rowLimit": 10000
     },
     "inputWidgets": {},
     "nuid": "0fd367de-e652-42be-8faf-ba6a06592f7c",
     "showTitle": false,
     "tableResultSettingsMap": {},
     "title": ""
    }
   },
   "outputs": [],
   "source": [
    "# Explore by month\n",
    "month_df = main_usage_df.groupBy(\"Year\", \"Month\").agg(sum(\"DIFF_COUNT\").alias(\"DIFF_COUNT_SUM\"), sum(\"VEE_AMI_DIFF\").alias(\"VEE_AMI_DIFF_SUM\"))\n",
    "\n",
    "display(month_df.orderBy(desc(\"DIFF_COUNT_SUM\")))"
   ]
  },
  {
   "cell_type": "code",
   "execution_count": 0,
   "metadata": {
    "application/vnd.databricks.v1+cell": {
     "cellMetadata": {},
     "inputWidgets": {},
     "nuid": "114ae16c-92b8-4271-a1cd-e1f272208ad3",
     "showTitle": false,
     "tableResultSettingsMap": {},
     "title": ""
    }
   },
   "outputs": [],
   "source": []
  }
 ],
 "metadata": {
  "application/vnd.databricks.v1+notebook": {
   "computePreferences": null,
   "dashboards": [],
   "environmentMetadata": {
    "base_environment": "",
    "environment_version": "2"
   },
   "inputWidgetPreferences": null,
   "language": "python",
   "notebookMetadata": {
    "pythonIndentUnit": 4
   },
   "notebookName": "ExploreAMIvsVEE",
   "widgets": {}
  },
  "language_info": {
   "name": "python"
  }
 },
 "nbformat": 4,
 "nbformat_minor": 0
}
