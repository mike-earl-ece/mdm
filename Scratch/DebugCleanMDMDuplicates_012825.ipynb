{
 "cells": [
  {
   "cell_type": "code",
   "execution_count": 0,
   "metadata": {
    "application/vnd.databricks.v1+cell": {
     "cellMetadata": {
      "byteLimit": 2048000,
      "rowLimit": 10000
     },
     "inputWidgets": {},
     "nuid": "e7685a57-bc9b-48a9-9cb2-7543c24af2ad",
     "showTitle": false,
     "tableResultSettingsMap": {},
     "title": ""
    }
   },
   "outputs": [],
   "source": [
    "%run ../Utilities/ConfigUtilities"
   ]
  },
  {
   "cell_type": "code",
   "execution_count": 0,
   "metadata": {
    "application/vnd.databricks.v1+cell": {
     "cellMetadata": {
      "byteLimit": 2048000,
      "rowLimit": 10000
     },
     "inputWidgets": {},
     "nuid": "72f3f7cc-a669-402d-81a1-6afa67199206",
     "showTitle": false,
     "tableResultSettingsMap": {},
     "title": ""
    }
   },
   "outputs": [],
   "source": [
    "# Set up the environment using a function in ConfigUtilties.\n",
    "set_spark_config()"
   ]
  },
  {
   "cell_type": "code",
   "execution_count": 0,
   "metadata": {
    "application/vnd.databricks.v1+cell": {
     "cellMetadata": {
      "byteLimit": 2048000,
      "rowLimit": 10000
     },
     "inputWidgets": {},
     "nuid": "8a052ddc-bdcc-40a1-b0a0-af3b1db4089b",
     "showTitle": false,
     "tableResultSettingsMap": {},
     "title": ""
    }
   },
   "outputs": [],
   "source": [
    "clean_out_df = spark.read.table(MDM_CLEANED_TABLE)\n",
    "print(clean_out_df.count())\n",
    "display(clean_out_df)"
   ]
  },
  {
   "cell_type": "code",
   "execution_count": 0,
   "metadata": {
    "application/vnd.databricks.v1+cell": {
     "cellMetadata": {
      "byteLimit": 2048000,
      "rowLimit": 10000
     },
     "inputWidgets": {},
     "nuid": "85e8aa4f-80eb-4116-91fc-afe62b607bad",
     "showTitle": false,
     "tableResultSettingsMap": {},
     "title": ""
    }
   },
   "outputs": [],
   "source": [
    "from delta.tables import DeltaTable\n",
    "\n",
    "# Roll back changes.  Find the target.  \n",
    "clean_table = DeltaTable.forPath(spark, MDM_CLEANED_PATH)\n",
    "history_df = clean_table.history()\n",
    "\n",
    "display(history_df)\n"
   ]
  },
  {
   "cell_type": "code",
   "execution_count": 0,
   "metadata": {
    "application/vnd.databricks.v1+cell": {
     "cellMetadata": {
      "byteLimit": 2048000,
      "rowLimit": 10000
     },
     "inputWidgets": {},
     "nuid": "dbf7cbaa-ac89-4338-a996-e1ec726c8a79",
     "showTitle": false,
     "tableResultSettingsMap": {},
     "title": ""
    }
   },
   "outputs": [],
   "source": [
    "clean_table.restoreToVersion(126)\n",
    "\n",
    "history_df = clean_table.history()\n",
    "\n",
    "display(history_df)"
   ]
  },
  {
   "cell_type": "code",
   "execution_count": 0,
   "metadata": {
    "application/vnd.databricks.v1+cell": {
     "cellMetadata": {
      "byteLimit": 2048000,
      "rowLimit": 10000
     },
     "inputWidgets": {},
     "nuid": "f0bf9269-2704-440d-bf82-b760d2ea2d9e",
     "showTitle": false,
     "tableResultSettingsMap": {},
     "title": ""
    }
   },
   "outputs": [],
   "source": [
    "# Re-read the data to check the changes.\n",
    "clean_out_df = spark.read.table(MDM_CLEANED_TABLE)\n",
    "print(clean_out_df.count())\n"
   ]
  },
  {
   "cell_type": "code",
   "execution_count": 0,
   "metadata": {
    "application/vnd.databricks.v1+cell": {
     "cellMetadata": {
      "byteLimit": 2048000,
      "rowLimit": 10000
     },
     "inputWidgets": {},
     "nuid": "c110b1b9-f894-4b4b-9165-1ba484807175",
     "showTitle": false,
     "tableResultSettingsMap": {},
     "title": ""
    }
   },
   "outputs": [],
   "source": [
    " # Check for duplicates at this point,  \n",
    "duplicates_out_df = clean_out_df.groupBy(\"MeterNumber\", \"UnitOfMeasure\", \"FlowDirection\", \"Channel\", \"StartDateTime\", \"EndDateTime\")\\\n",
    "                  .count().filter(\"count > 1\")\n",
    "\n",
    "dup_count = duplicates_out_df.count()\n",
    "\n",
    "if dup_count > 0: \n",
    "  print(dup_count)\n",
    "  display(duplicates_out_df)\n",
    "\n",
    "  clean_out_dup_df = duplicates_out_df.join(clean_out_df, [\"MeterNumber\", \"UnitOfMeasure\", \"FlowDirection\", \"Channel\", \"StartDateTime\", \"EndDateTime\"], \"left\")\n",
    "  print(clean_out_dup_df.count())\n",
    "  display(clean_out_dup_df.orderBy([\"MeterNumber\", \"StartDateTime\"], ascending=True))\n",
    "\n",
    "\n",
    "  #raise Exception(\"Duplicates found in the clean table.  Please investigate.\")\n",
    "\n",
    "else:\n",
    "  print(\"No duplicates found after the upsert.\")"
   ]
  },
  {
   "cell_type": "code",
   "execution_count": 0,
   "metadata": {
    "application/vnd.databricks.v1+cell": {
     "cellMetadata": {
      "byteLimit": 2048000,
      "rowLimit": 10000
     },
     "inputWidgets": {},
     "nuid": "0b179982-017a-4c65-8c8c-1f4ca333e59b",
     "showTitle": false,
     "tableResultSettingsMap": {},
     "title": ""
    }
   },
   "outputs": [],
   "source": [
    "# Get the change history\n",
    "starting_version = 100\n",
    "\n",
    "clean_changes_all_df = spark.read \\\n",
    "        .option(\"readChangeFeed\", \"true\") \\\n",
    "        .option(\"startingVersion\", starting_version) \\\n",
    "        .table(MDM_CLEANED_TABLE)\n",
    "\n",
    "#        .option(\"startingTimestamp\", last_change) \\\n"
   ]
  },
  {
   "cell_type": "code",
   "execution_count": 0,
   "metadata": {
    "application/vnd.databricks.v1+cell": {
     "cellMetadata": {
      "byteLimit": 2048000,
      "rowLimit": 10000
     },
     "inputWidgets": {},
     "nuid": "69405008-05ff-4daf-8968-b2844b0eec6d",
     "showTitle": false,
     "tableResultSettingsMap": {},
     "title": ""
    }
   },
   "outputs": [],
   "source": [
    "from pyspark.sql.functions import col\n",
    "\n",
    "# Filter down to a specific meter and timeframe.\n",
    "sample_df = clean_changes_all_df.filter((col(\"MeterNumber\") == 18778314) & (col(\"StartDateTime\") == \"2025-01-25T11:45:00.000+00:00\") )\n",
    "\n",
    "display(sample_df)"
   ]
  }
 ],
 "metadata": {
  "application/vnd.databricks.v1+notebook": {
   "computePreferences": null,
   "dashboards": [],
   "environmentMetadata": {
    "base_environment": "",
    "environment_version": "1"
   },
   "language": "python",
   "notebookMetadata": {
    "pythonIndentUnit": 4
   },
   "notebookName": "DebugCleanMDMDuplicates_012825",
   "widgets": {}
  },
  "language_info": {
   "name": "python"
  }
 },
 "nbformat": 4,
 "nbformat_minor": 0
}
