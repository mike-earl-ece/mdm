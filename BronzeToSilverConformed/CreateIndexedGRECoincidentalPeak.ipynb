{
 "cells": [
  {
   "cell_type": "markdown",
   "metadata": {
    "application/vnd.databricks.v1+cell": {
     "cellMetadata": {},
     "inputWidgets": {},
     "nuid": "c0676a2f-b6f9-4d4b-a857-7ab938a22aa6",
     "showTitle": false,
     "tableResultSettingsMap": {},
     "title": ""
    }
   },
   "source": [
    "# Create Indexed GRE Coincidental Peak\n",
    "Creates start and stop indexes the coincidental load."
   ]
  },
  {
   "cell_type": "code",
   "execution_count": 0,
   "metadata": {
    "application/vnd.databricks.v1+cell": {
     "cellMetadata": {
      "byteLimit": 2048000,
      "rowLimit": 10000
     },
     "inputWidgets": {},
     "nuid": "b6f0fc75-2103-4995-bb85-b74b2841d804",
     "showTitle": false,
     "tableResultSettingsMap": {},
     "title": ""
    }
   },
   "outputs": [],
   "source": [
    "%run ../Utilities/ConfigUtilities"
   ]
  },
  {
   "cell_type": "code",
   "execution_count": 0,
   "metadata": {
    "application/vnd.databricks.v1+cell": {
     "cellMetadata": {},
     "inputWidgets": {},
     "nuid": "8357c3e2-858f-4f12-9108-7a081372485e",
     "showTitle": false,
     "tableResultSettingsMap": {},
     "title": ""
    }
   },
   "outputs": [],
   "source": [
    "# Set up the environment using a function in ConfigUtilties.\n",
    "set_spark_config()"
   ]
  },
  {
   "cell_type": "code",
   "execution_count": 0,
   "metadata": {
    "application/vnd.databricks.v1+cell": {
     "cellMetadata": {
      "byteLimit": 2048000,
      "rowLimit": 10000
     },
     "inputWidgets": {},
     "nuid": "903c6568-8cd2-4311-9d01-79f395a5b22d",
     "showTitle": false,
     "tableResultSettingsMap": {},
     "title": ""
    }
   },
   "outputs": [],
   "source": [
    "from pyspark.sql.functions import col\n",
    "\n",
    "debug = 1"
   ]
  },
  {
   "cell_type": "code",
   "execution_count": 0,
   "metadata": {
    "application/vnd.databricks.v1+cell": {
     "cellMetadata": {
      "byteLimit": 2048000,
      "rowLimit": 10000
     },
     "inputWidgets": {},
     "nuid": "312fca09-6eba-43a2-8639-423bac5e2fca",
     "showTitle": false,
     "tableResultSettingsMap": {},
     "title": ""
    }
   },
   "outputs": [],
   "source": [
    "# Read the monthly coincidental peak.\n",
    "coincid_df = spark.read.format(\"delta\").load(COINCIDENTAL_LOAD_SILVER_PATH)\n",
    "\n",
    "if debug:\n",
    "    display(coincid_df)"
   ]
  },
  {
   "cell_type": "code",
   "execution_count": 0,
   "metadata": {
    "application/vnd.databricks.v1+cell": {
     "cellMetadata": {
      "byteLimit": 2048000,
      "rowLimit": 10000
     },
     "inputWidgets": {},
     "nuid": "ec873103-fdaf-44a4-a6f7-f64f953bcdcc",
     "showTitle": false,
     "tableResultSettingsMap": {},
     "title": ""
    }
   },
   "outputs": [],
   "source": [
    "# Read the indexed calendar\n",
    "cal_df =  spark.read.parquet(INDEXED_CALENDAR_PATH)\n",
    "\n",
    "# Coincidental peka data is local time zone based, so drop the UTC columns for this process.\n",
    "cal_df = cal_df.drop(\"UTCTimeStamp\", \"UTCYear\", \"UTCMonth\", \"UTCDay\", \"UTCHour\", \"UTCMinute\")\n",
    "\n",
    "if debug:\n",
    "    display(cal_df)"
   ]
  },
  {
   "cell_type": "code",
   "execution_count": 0,
   "metadata": {
    "application/vnd.databricks.v1+cell": {
     "cellMetadata": {
      "byteLimit": 2048000,
      "rowLimit": 10000
     },
     "inputWidgets": {},
     "nuid": "aeabadba-554e-4b0c-80d1-7e0aa69d9b0b",
     "showTitle": false,
     "tableResultSettingsMap": {},
     "title": ""
    }
   },
   "outputs": [],
   "source": [
    "# Join based on timestamps.\n",
    "coincid_cal_df = coincid_df.join(cal_df, coincid_df.CoincidTime == cal_df.LocalTimeStamp, \"inner\")\n",
    "\n",
    "if debug:\n",
    "    display(coincid_cal_df)"
   ]
  },
  {
   "cell_type": "code",
   "execution_count": 0,
   "metadata": {
    "application/vnd.databricks.v1+cell": {
     "cellMetadata": {
      "byteLimit": 2048000,
      "rowLimit": 10000
     },
     "inputWidgets": {},
     "nuid": "c052c121-755e-4419-b493-6feefad946e3",
     "showTitle": false,
     "tableResultSettingsMap": {},
     "title": ""
    }
   },
   "outputs": [],
   "source": [
    "# Drop the Local columns and save.\n",
    "coincid_cal_df = coincid_cal_df.drop(\"LocalTimeStamp\", \"LocalYear\", \"LocalMonth\", \"LocalDay\", \"LocalHour\", \"LocalMinute\", \"Holiday\", \"Weekend\")\n",
    "\n",
    "coincid_cal_df.write.format(\"delta\").mode(\"overwrite\").save(COINCIDENTAL_LOAD_INDEX_PATH)"
   ]
  },
  {
   "cell_type": "code",
   "execution_count": 0,
   "metadata": {
    "application/vnd.databricks.v1+cell": {
     "cellMetadata": {
      "byteLimit": 2048000,
      "rowLimit": 10000
     },
     "inputWidgets": {},
     "nuid": "a8a7e3ae-5c12-4cb4-b6d0-3782d42abd06",
     "showTitle": false,
     "tableResultSettingsMap": {},
     "title": ""
    }
   },
   "outputs": [],
   "source": [
    "# Clean up the delta history.\n",
    "spark.sql(f\"VACUUM '{COINCIDENTAL_LOAD_INDEX_PATH}'\")"
   ]
  }
 ],
 "metadata": {
  "application/vnd.databricks.v1+notebook": {
   "computePreferences": null,
   "dashboards": [],
   "environmentMetadata": {
    "base_environment": "",
    "environment_version": "2"
   },
   "inputWidgetPreferences": null,
   "language": "python",
   "notebookMetadata": {
    "pythonIndentUnit": 4
   },
   "notebookName": "CreateIndexedGRECoincidentalPeak",
   "widgets": {}
  },
  "language_info": {
   "name": "python"
  }
 },
 "nbformat": 4,
 "nbformat_minor": 0
}
